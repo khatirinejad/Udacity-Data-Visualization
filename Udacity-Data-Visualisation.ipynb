{
 "cells": [
  {
   "cell_type": "markdown",
   "metadata": {},
   "source": [
    "# Ford GoBike System Data Analysis\n",
    "\n",
    "### by Mahyar Khatirinejad"
   ]
  },
  {
   "cell_type": "markdown",
   "metadata": {},
   "source": [
    "## Preliminary Wrangling\n",
    "\n",
    "> This data set includes information about individual rides made in a bike-sharing system covering the greater San Francisco Bay area.\n",
    "Bay Area Bike Share Trips Data available at:\n",
    "https://www.google.com/url?q=https://www.fordgobike.com/system-data&sa=D&ust=1554486256012000\n",
    "\n",
    "> San Francisco offers bike ride services as a way for commuters / visitors to travel through the congested city lanes. There are about 700 bikes available through the network and the dataset incldues bike share trips data that comprises trip details from January 2019 through December 2019. "
   ]
  },
  {
   "cell_type": "markdown",
   "metadata": {},
   "source": [
    "## Gathering Data "
   ]
  },
  {
   "cell_type": "code",
   "execution_count": 95,
   "metadata": {},
   "outputs": [],
   "source": [
    "# import all the required packages and set plots to be embedded inline\n",
    "\n",
    "import numpy as np\n",
    "import pandas as pd\n",
    "import matplotlib.pyplot as plt\n",
    "import seaborn as sb\n",
    "import glob\n",
    "import seaborn as sns\n",
    "%matplotlib inline"
   ]
  },
  {
   "cell_type": "code",
   "execution_count": 96,
   "metadata": {},
   "outputs": [],
   "source": [
    "data_files   = ['C:/Users/khati/Desktop/udacity/U-Data-visualization/biking_data/201901-fordgobike-tripdata.csv',\n",
    "                'C:/Users/khati/Desktop/udacity/U-Data-visualization/biking_data/201902-fordgobike-tripdata.csv',\n",
    "                'C:/Users/khati/Desktop/udacity/U-Data-visualization/biking_data/201903-fordgobike-tripdata.csv',\n",
    "                'C:/Users/khati/Desktop/udacity/U-Data-visualization/biking_data/201904-fordgobike-tripdata.csv',\n",
    "                'C:/Users/khati/Desktop/udacity/U-Data-visualization/biking_data/201905-baywheels-tripdata.csv',\n",
    "                'C:/Users/khati/Desktop/udacity/U-Data-visualization/biking_data/201906-baywheels-tripdata.csv',\n",
    "                'C:/Us>ers/khati/Desktop/udacity/U-Data-visualization/biking_data/201907-baywheels-tripdata.csv',\n",
    "                'C:/Users/khati/Desktop/udacity/U-Data-visualization/biking_data/201908-baywheels-tripdata.csv',\n",
    "                'C:/Users/khati/Desktop/udacity/U-Data-visualization/biking_data/201909-baywheels-tripdata.csv',\n",
    "                'C:/Users/khati/Desktop/udacity/U-Data-visualization/biking_data/201910-baywheels-tripdata.csv',\n",
    "                'C:/Users/khati/Desktop/udacity/U-Data-visualization/biking_data/201911-baywheels-tripdata.csv',   \n",
    "                'C:/Users/khati/Desktop/udacity/U-Data-visualization/biking_data/201912-baywheels-tripdata.csv']\n"
   ]
  },
  {
   "cell_type": "code",
   "execution_count": 97,
   "metadata": {},
   "outputs": [
    {
     "name": "stderr",
     "output_type": "stream",
     "text": [
      "C:\\Users\\khati\\anaconda3\\lib\\site-packages\\IPython\\core\\interactiveshell.py:3254: DtypeWarning: Columns (14) have mixed types.Specify dtype option on import or set low_memory=False.\n",
      "  if (await self.run_code(code, result,  async_=asy)):\n",
      "C:\\Users\\khati\\anaconda3\\lib\\site-packages\\IPython\\core\\interactiveshell.py:3254: DtypeWarning: Columns (13,14) have mixed types.Specify dtype option on import or set low_memory=False.\n",
      "  if (await self.run_code(code, result,  async_=asy)):\n",
      "C:\\Users\\khati\\anaconda3\\lib\\site-packages\\IPython\\core\\interactiveshell.py:3254: DtypeWarning: Columns (13) have mixed types.Specify dtype option on import or set low_memory=False.\n",
      "  if (await self.run_code(code, result,  async_=asy)):\n"
     ]
    }
   ],
   "source": [
    "bike_data = pd.concat([pd.read_csv(f,) for f in glob.glob(\"C:/Users/khati/Desktop/udacity/U-Data-visualization/biking_data\" + \"/*.csv\")],ignore_index=True)"
   ]
  },
  {
   "cell_type": "markdown",
   "metadata": {},
   "source": [
    "### What is the structure of the dataset?\n",
    "\n",
    "> There are 11070 bikes in this dataset with 2,506,983 rows and 15 features (duration_sec, start time, end time, start station id, start station name,start_station_latitude, start_station_longitude,end station id, end station name, end_station_latitude, end_station_longitude, bike_id, user_type, bike share for all trip, rental access method).\n",
    "\n",
    "### What is/are the main feature(s) of interest in your dataset?\n",
    "\n",
    "> We are looking at the Start Station and End Station to understand the how customer behaviour differs based on the stations by looking at the top 10 stations. It is important to view station usage for the company to monitor busy stations to make sure enough bikes are available for use or empty spots available for bike drop offs.\n",
    "\n",
    "\n",
    "### What features in the dataset do you think will help support your investigation into your feature(s) of interest?\n",
    "\n",
    "> Some attributes such as time, user type and start/end_station_name id will help support my investigation "
   ]
  },
  {
   "cell_type": "markdown",
   "metadata": {},
   "source": [
    "## Assessing Data"
   ]
  },
  {
   "cell_type": "code",
   "execution_count": 98,
   "metadata": {},
   "outputs": [
    {
     "data": {
      "text/html": [
       "<div>\n",
       "<style scoped>\n",
       "    .dataframe tbody tr th:only-of-type {\n",
       "        vertical-align: middle;\n",
       "    }\n",
       "\n",
       "    .dataframe tbody tr th {\n",
       "        vertical-align: top;\n",
       "    }\n",
       "\n",
       "    .dataframe thead th {\n",
       "        text-align: right;\n",
       "    }\n",
       "</style>\n",
       "<table border=\"1\" class=\"dataframe\">\n",
       "  <thead>\n",
       "    <tr style=\"text-align: right;\">\n",
       "      <th></th>\n",
       "      <th>duration_sec</th>\n",
       "      <th>start_time</th>\n",
       "      <th>end_time</th>\n",
       "      <th>start_station_id</th>\n",
       "      <th>start_station_name</th>\n",
       "      <th>start_station_latitude</th>\n",
       "      <th>start_station_longitude</th>\n",
       "      <th>end_station_id</th>\n",
       "      <th>end_station_name</th>\n",
       "      <th>end_station_latitude</th>\n",
       "      <th>end_station_longitude</th>\n",
       "      <th>bike_id</th>\n",
       "      <th>user_type</th>\n",
       "      <th>bike_share_for_all_trip</th>\n",
       "      <th>rental_access_method</th>\n",
       "    </tr>\n",
       "  </thead>\n",
       "  <tbody>\n",
       "    <tr>\n",
       "      <th>0</th>\n",
       "      <td>80825</td>\n",
       "      <td>2019-01-31 17:57:44.6130</td>\n",
       "      <td>2019-02-01 16:24:49.8640</td>\n",
       "      <td>229.0</td>\n",
       "      <td>Foothill Blvd at 42nd Ave</td>\n",
       "      <td>37.775745</td>\n",
       "      <td>-122.213037</td>\n",
       "      <td>196.0</td>\n",
       "      <td>Grand Ave at Perkins St</td>\n",
       "      <td>37.808894</td>\n",
       "      <td>-122.256460</td>\n",
       "      <td>4861</td>\n",
       "      <td>Subscriber</td>\n",
       "      <td>No</td>\n",
       "      <td>NaN</td>\n",
       "    </tr>\n",
       "    <tr>\n",
       "      <th>1</th>\n",
       "      <td>65900</td>\n",
       "      <td>2019-01-31 20:58:33.8860</td>\n",
       "      <td>2019-02-01 15:16:54.1730</td>\n",
       "      <td>4.0</td>\n",
       "      <td>Cyril Magnin St at Ellis St</td>\n",
       "      <td>37.785881</td>\n",
       "      <td>-122.408915</td>\n",
       "      <td>134.0</td>\n",
       "      <td>Valencia St at 24th St</td>\n",
       "      <td>37.752428</td>\n",
       "      <td>-122.420628</td>\n",
       "      <td>5506</td>\n",
       "      <td>Subscriber</td>\n",
       "      <td>No</td>\n",
       "      <td>NaN</td>\n",
       "    </tr>\n",
       "    <tr>\n",
       "      <th>2</th>\n",
       "      <td>62633</td>\n",
       "      <td>2019-01-31 18:06:52.9240</td>\n",
       "      <td>2019-02-01 11:30:46.5300</td>\n",
       "      <td>245.0</td>\n",
       "      <td>Downtown Berkeley BART</td>\n",
       "      <td>37.870139</td>\n",
       "      <td>-122.268422</td>\n",
       "      <td>157.0</td>\n",
       "      <td>65th St at Hollis St</td>\n",
       "      <td>37.846784</td>\n",
       "      <td>-122.291376</td>\n",
       "      <td>2717</td>\n",
       "      <td>Customer</td>\n",
       "      <td>No</td>\n",
       "      <td>NaN</td>\n",
       "    </tr>\n",
       "    <tr>\n",
       "      <th>3</th>\n",
       "      <td>44680</td>\n",
       "      <td>2019-01-31 19:46:09.7190</td>\n",
       "      <td>2019-02-01 08:10:50.3180</td>\n",
       "      <td>85.0</td>\n",
       "      <td>Church St at Duboce Ave</td>\n",
       "      <td>37.770083</td>\n",
       "      <td>-122.429156</td>\n",
       "      <td>53.0</td>\n",
       "      <td>Grove St at Divisadero</td>\n",
       "      <td>37.775946</td>\n",
       "      <td>-122.437777</td>\n",
       "      <td>4557</td>\n",
       "      <td>Customer</td>\n",
       "      <td>No</td>\n",
       "      <td>NaN</td>\n",
       "    </tr>\n",
       "    <tr>\n",
       "      <th>4</th>\n",
       "      <td>60709</td>\n",
       "      <td>2019-01-31 14:19:01.5410</td>\n",
       "      <td>2019-02-01 07:10:51.0650</td>\n",
       "      <td>16.0</td>\n",
       "      <td>Steuart St at Market St</td>\n",
       "      <td>37.794130</td>\n",
       "      <td>-122.394430</td>\n",
       "      <td>28.0</td>\n",
       "      <td>The Embarcadero at Bryant St</td>\n",
       "      <td>37.787168</td>\n",
       "      <td>-122.388098</td>\n",
       "      <td>2100</td>\n",
       "      <td>Customer</td>\n",
       "      <td>No</td>\n",
       "      <td>NaN</td>\n",
       "    </tr>\n",
       "  </tbody>\n",
       "</table>\n",
       "</div>"
      ],
      "text/plain": [
       "   duration_sec                start_time                  end_time  \\\n",
       "0         80825  2019-01-31 17:57:44.6130  2019-02-01 16:24:49.8640   \n",
       "1         65900  2019-01-31 20:58:33.8860  2019-02-01 15:16:54.1730   \n",
       "2         62633  2019-01-31 18:06:52.9240  2019-02-01 11:30:46.5300   \n",
       "3         44680  2019-01-31 19:46:09.7190  2019-02-01 08:10:50.3180   \n",
       "4         60709  2019-01-31 14:19:01.5410  2019-02-01 07:10:51.0650   \n",
       "\n",
       "   start_station_id           start_station_name  start_station_latitude  \\\n",
       "0             229.0    Foothill Blvd at 42nd Ave               37.775745   \n",
       "1               4.0  Cyril Magnin St at Ellis St               37.785881   \n",
       "2             245.0       Downtown Berkeley BART               37.870139   \n",
       "3              85.0      Church St at Duboce Ave               37.770083   \n",
       "4              16.0      Steuart St at Market St               37.794130   \n",
       "\n",
       "   start_station_longitude  end_station_id              end_station_name  \\\n",
       "0              -122.213037           196.0       Grand Ave at Perkins St   \n",
       "1              -122.408915           134.0        Valencia St at 24th St   \n",
       "2              -122.268422           157.0          65th St at Hollis St   \n",
       "3              -122.429156            53.0        Grove St at Divisadero   \n",
       "4              -122.394430            28.0  The Embarcadero at Bryant St   \n",
       "\n",
       "   end_station_latitude  end_station_longitude  bike_id   user_type  \\\n",
       "0             37.808894            -122.256460     4861  Subscriber   \n",
       "1             37.752428            -122.420628     5506  Subscriber   \n",
       "2             37.846784            -122.291376     2717    Customer   \n",
       "3             37.775946            -122.437777     4557    Customer   \n",
       "4             37.787168            -122.388098     2100    Customer   \n",
       "\n",
       "  bike_share_for_all_trip rental_access_method  \n",
       "0                      No                  NaN  \n",
       "1                      No                  NaN  \n",
       "2                      No                  NaN  \n",
       "3                      No                  NaN  \n",
       "4                      No                  NaN  "
      ]
     },
     "execution_count": 98,
     "metadata": {},
     "output_type": "execute_result"
    }
   ],
   "source": [
    "bike_data.head()"
   ]
  },
  {
   "cell_type": "code",
   "execution_count": 99,
   "metadata": {},
   "outputs": [
    {
     "name": "stdout",
     "output_type": "stream",
     "text": [
      "(2506983, 15)\n",
      "duration_sec                 int64\n",
      "start_time                  object\n",
      "end_time                    object\n",
      "start_station_id           float64\n",
      "start_station_name          object\n",
      "start_station_latitude     float64\n",
      "start_station_longitude    float64\n",
      "end_station_id             float64\n",
      "end_station_name            object\n",
      "end_station_latitude       float64\n",
      "end_station_longitude      float64\n",
      "bike_id                      int64\n",
      "user_type                   object\n",
      "bike_share_for_all_trip     object\n",
      "rental_access_method        object\n",
      "dtype: object\n"
     ]
    }
   ],
   "source": [
    "print(bike_data.shape)\n",
    "print(bike_data.dtypes)"
   ]
  },
  {
   "cell_type": "code",
   "execution_count": 100,
   "metadata": {},
   "outputs": [
    {
     "data": {
      "text/plain": [
       "0"
      ]
     },
     "execution_count": 100,
     "metadata": {},
     "output_type": "execute_result"
    }
   ],
   "source": [
    "sum(bike_data.duplicated())"
   ]
  },
  {
   "cell_type": "code",
   "execution_count": 101,
   "metadata": {},
   "outputs": [
    {
     "data": {
      "text/plain": [
       "duration_sec                     0\n",
       "start_time                       0\n",
       "end_time                         0\n",
       "start_station_id             80734\n",
       "start_station_name           80133\n",
       "start_station_latitude           0\n",
       "start_station_longitude          0\n",
       "end_station_id               82902\n",
       "end_station_name             82350\n",
       "end_station_latitude             0\n",
       "end_station_longitude            0\n",
       "bike_id                          0\n",
       "user_type                        0\n",
       "bike_share_for_all_trip     243259\n",
       "rental_access_method       2386145\n",
       "dtype: int64"
      ]
     },
     "execution_count": 101,
     "metadata": {},
     "output_type": "execute_result"
    }
   ],
   "source": [
    "#maybe i should drop the null columns\n",
    "bike_data.isnull().sum()"
   ]
  },
  {
   "cell_type": "code",
   "execution_count": 102,
   "metadata": {},
   "outputs": [
    {
     "data": {
      "text/plain": [
       "Market St at 10th St                                         45058\n",
       "Berry St at 4th St                                           42962\n",
       "San Francisco Caltrain (Townsend St at 4th St)               40302\n",
       "San Francisco Ferry Building (Harry Bridges Plaza)           39016\n",
       "San Francisco Caltrain Station 2  (Townsend St at 4th St)    36576\n",
       "                                                             ...  \n",
       "Prototype Lab                                                    4\n",
       "San Jose Depot                                                   3\n",
       "Mercado Way at Sierra Rd                                         3\n",
       "Philly Demo                                                      2\n",
       "SF Test Station                                                  1\n",
       "Name: start_station_name, Length: 446, dtype: int64"
      ]
     },
     "execution_count": 102,
     "metadata": {},
     "output_type": "execute_result"
    }
   ],
   "source": [
    "bike_data.start_station_name.value_counts()"
   ]
  },
  {
   "cell_type": "code",
   "execution_count": 103,
   "metadata": {},
   "outputs": [
    {
     "data": {
      "text/plain": [
       "11070"
      ]
     },
     "execution_count": 103,
     "metadata": {},
     "output_type": "execute_result"
    }
   ],
   "source": [
    "bike_data.bike_id.nunique()"
   ]
  },
  {
   "cell_type": "code",
   "execution_count": 104,
   "metadata": {},
   "outputs": [
    {
     "data": {
      "text/plain": [
       "3135      912\n",
       "3146      911\n",
       "3569      889\n",
       "3249      882\n",
       "1502      882\n",
       "         ... \n",
       "3973        1\n",
       "655034      1\n",
       "92          1\n",
       "3214        1\n",
       "6271        1\n",
       "Name: bike_id, Length: 11070, dtype: int64"
      ]
     },
     "execution_count": 104,
     "metadata": {},
     "output_type": "execute_result"
    }
   ],
   "source": [
    "bike_data.bike_id.value_counts()"
   ]
  },
  {
   "cell_type": "code",
   "execution_count": 105,
   "metadata": {},
   "outputs": [
    {
     "data": {
      "text/plain": [
       "Subscriber    2021166\n",
       "Customer       485817\n",
       "Name: user_type, dtype: int64"
      ]
     },
     "execution_count": 105,
     "metadata": {},
     "output_type": "execute_result"
    }
   ],
   "source": [
    "bike_data.user_type.value_counts()"
   ]
  },
  {
   "cell_type": "code",
   "execution_count": 106,
   "metadata": {},
   "outputs": [
    {
     "data": {
      "text/plain": [
       "No     2086152\n",
       "Yes     177572\n",
       "Name: bike_share_for_all_trip, dtype: int64"
      ]
     },
     "execution_count": 106,
     "metadata": {},
     "output_type": "execute_result"
    }
   ],
   "source": [
    "bike_data.bike_share_for_all_trip.value_counts()"
   ]
  },
  {
   "cell_type": "code",
   "execution_count": 107,
   "metadata": {},
   "outputs": [
    {
     "data": {
      "text/plain": [
       "app        108010\n",
       "clipper     12828\n",
       "Name: rental_access_method, dtype: int64"
      ]
     },
     "execution_count": 107,
     "metadata": {},
     "output_type": "execute_result"
    }
   ],
   "source": [
    "bike_data.rental_access_method.value_counts()"
   ]
  },
  {
   "cell_type": "markdown",
   "metadata": {},
   "source": [
    "# Cleaning Dataset "
   ]
  },
  {
   "cell_type": "markdown",
   "metadata": {},
   "source": [
    "### 1. Define:\n",
    "***Droping the \"bike_share_for_all_trip\" and \"rental_access_method\" becuse the first one is not documented and second one has so many NaN values.***\n",
    "### Code:"
   ]
  },
  {
   "cell_type": "code",
   "execution_count": 108,
   "metadata": {},
   "outputs": [],
   "source": [
    "bike_data.drop(['bike_share_for_all_trip','rental_access_method'],inplace=True,axis=1)"
   ]
  },
  {
   "cell_type": "code",
   "execution_count": 109,
   "metadata": {},
   "outputs": [
    {
     "name": "stdout",
     "output_type": "stream",
     "text": [
      "<class 'pandas.core.frame.DataFrame'>\n",
      "RangeIndex: 2506983 entries, 0 to 2506982\n",
      "Data columns (total 13 columns):\n",
      " #   Column                   Dtype  \n",
      "---  ------                   -----  \n",
      " 0   duration_sec             int64  \n",
      " 1   start_time               object \n",
      " 2   end_time                 object \n",
      " 3   start_station_id         float64\n",
      " 4   start_station_name       object \n",
      " 5   start_station_latitude   float64\n",
      " 6   start_station_longitude  float64\n",
      " 7   end_station_id           float64\n",
      " 8   end_station_name         object \n",
      " 9   end_station_latitude     float64\n",
      " 10  end_station_longitude    float64\n",
      " 11  bike_id                  int64  \n",
      " 12  user_type                object \n",
      "dtypes: float64(6), int64(2), object(5)\n",
      "memory usage: 248.6+ MB\n"
     ]
    }
   ],
   "source": [
    "bike_data.info()"
   ]
  },
  {
   "cell_type": "markdown",
   "metadata": {},
   "source": [
    "### 2. Define: \n",
    "***converting the 'start_station_id', 'end_station_id', 'bike_id', to strings***\n",
    "   \n",
    "***Converting the 'start_time' and 'end_time' to datatime***\n",
    "### Code"
   ]
  },
  {
   "cell_type": "code",
   "execution_count": 110,
   "metadata": {},
   "outputs": [],
   "source": [
    "bike_data['start_station_id']= bike_data['start_station_id'].astype('str')\n",
    "bike_data['end_station_id']= bike_data['end_station_id'].astype('str')\n",
    "bike_data['bike_id']= bike_data['bike_id'].astype('str')\n",
    "\n",
    "bike_data['start_time']= bike_data['start_time'].astype('datetime64[ns]')\n",
    "bike_data['end_time']= bike_data['end_time'].astype('datetime64[ns]')\n",
    "#df_bike_clean['duration_sec']= df_bike_clean['duration_sec'].astype('datetime64[ns]')"
   ]
  },
  {
   "cell_type": "code",
   "execution_count": 111,
   "metadata": {},
   "outputs": [
    {
     "name": "stdout",
     "output_type": "stream",
     "text": [
      "<class 'pandas.core.frame.DataFrame'>\n",
      "RangeIndex: 2506983 entries, 0 to 2506982\n",
      "Data columns (total 13 columns):\n",
      " #   Column                   Dtype         \n",
      "---  ------                   -----         \n",
      " 0   duration_sec             int64         \n",
      " 1   start_time               datetime64[ns]\n",
      " 2   end_time                 datetime64[ns]\n",
      " 3   start_station_id         object        \n",
      " 4   start_station_name       object        \n",
      " 5   start_station_latitude   float64       \n",
      " 6   start_station_longitude  float64       \n",
      " 7   end_station_id           object        \n",
      " 8   end_station_name         object        \n",
      " 9   end_station_latitude     float64       \n",
      " 10  end_station_longitude    float64       \n",
      " 11  bike_id                  object        \n",
      " 12  user_type                object        \n",
      "dtypes: datetime64[ns](2), float64(4), int64(1), object(6)\n",
      "memory usage: 248.6+ MB\n"
     ]
    }
   ],
   "source": [
    "bike_data.info()"
   ]
  },
  {
   "cell_type": "code",
   "execution_count": 112,
   "metadata": {},
   "outputs": [],
   "source": [
    "# extract three columns for future data exploration and analysis from the start_time column\n",
    "bike_data['month'] = pd.DatetimeIndex(bike_data['start_time']).month\n",
    "bike_data['trip_day'] = bike_data.start_time.dt.strftime('%a')\n",
    "bike_data['trip_hour'] = bike_data.start_time.dt.strftime('%H')"
   ]
  },
  {
   "cell_type": "code",
   "execution_count": 113,
   "metadata": {},
   "outputs": [
    {
     "data": {
      "text/plain": [
       "7     258102\n",
       "3     256299\n",
       "10    239895\n",
       "4     239111\n",
       "9     217986\n",
       "8     210563\n",
       "1     192082\n",
       "6     191772\n",
       "11    185496\n",
       "2     183412\n",
       "5     182163\n",
       "12    150102\n",
       "Name: month, dtype: int64"
      ]
     },
     "execution_count": 113,
     "metadata": {},
     "output_type": "execute_result"
    }
   ],
   "source": [
    "bike_data.month.value_counts()"
   ]
  },
  {
   "cell_type": "code",
   "execution_count": 114,
   "metadata": {},
   "outputs": [
    {
     "data": {
      "text/plain": [
       "Tue    427640\n",
       "Thu    424474\n",
       "Wed    414448\n",
       "Fri    397284\n",
       "Mon    396463\n",
       "Sat    234370\n",
       "Sun    212304\n",
       "Name: trip_day, dtype: int64"
      ]
     },
     "execution_count": 114,
     "metadata": {},
     "output_type": "execute_result"
    }
   ],
   "source": [
    "bike_data.trip_day.value_counts()"
   ]
  },
  {
   "cell_type": "markdown",
   "metadata": {},
   "source": [
    "### 3. Define:\n",
    "\n",
    "***Dropping non-essential columns for convenience:*** \n",
    "\n",
    "### Code:"
   ]
  },
  {
   "cell_type": "code",
   "execution_count": 115,
   "metadata": {},
   "outputs": [],
   "source": [
    "bike_data.drop(['start_station_id','end_station_id','start_station_latitude','start_station_longitude', 'end_station_latitude', 'end_station_longitude'], axis=1, inplace=True)"
   ]
  },
  {
   "cell_type": "code",
   "execution_count": 116,
   "metadata": {},
   "outputs": [
    {
     "name": "stdout",
     "output_type": "stream",
     "text": [
      "<class 'pandas.core.frame.DataFrame'>\n",
      "RangeIndex: 2506983 entries, 0 to 2506982\n",
      "Data columns (total 10 columns):\n",
      " #   Column              Dtype         \n",
      "---  ------              -----         \n",
      " 0   duration_sec        int64         \n",
      " 1   start_time          datetime64[ns]\n",
      " 2   end_time            datetime64[ns]\n",
      " 3   start_station_name  object        \n",
      " 4   end_station_name    object        \n",
      " 5   bike_id             object        \n",
      " 6   user_type           object        \n",
      " 7   month               int64         \n",
      " 8   trip_day            object        \n",
      " 9   trip_hour           object        \n",
      "dtypes: datetime64[ns](2), int64(2), object(6)\n",
      "memory usage: 191.3+ MB\n"
     ]
    }
   ],
   "source": [
    "#We make a copy of the dataset to keep the original list unchanged when the new list is modified\n",
    "df_bike_clean = bike_data.copy()\n",
    "df_bike_clean.info()\n"
   ]
  },
  {
   "cell_type": "markdown",
   "metadata": {},
   "source": [
    "## Univariate Exploration\n"
   ]
  },
  {
   "cell_type": "markdown",
   "metadata": {},
   "source": [
    "### 1. Top 10 Start Station"
   ]
  },
  {
   "cell_type": "code",
   "execution_count": 117,
   "metadata": {},
   "outputs": [
    {
     "name": "stdout",
     "output_type": "stream",
     "text": [
      "['Market St at 10th St', 'Berry St at 4th St', 'San Francisco Caltrain (Townsend St at 4th St)', 'San Francisco Ferry Building (Harry Bridges Plaza)', 'San Francisco Caltrain Station 2  (Townsend St at 4th St)', 'Montgomery St BART Station (Market St at 2nd St)', 'Powell St BART Station (Market St at 4th St)', 'Steuart St at Market St', 'Howard St at Beale St', 'Powell St BART Station (Market St at 5th St)']\n"
     ]
    }
   ],
   "source": [
    "#univariate comparing the number of times start station occurs, only want to look at top ten station\n",
    "#use value_counts() to get top ten\n",
    "freq_station = df_bike_clean.start_station_name.value_counts()\n",
    "y = freq_station.values[0:10] \n",
    "x = freq_station.index[0:10]\n",
    "j = []\n",
    "for i in x:\n",
    "    j.append(i)\n",
    "    \n",
    "print(j)\n",
    "    "
   ]
  },
  {
   "cell_type": "markdown",
   "metadata": {},
   "source": [
    "\n",
    "\n"
   ]
  },
  {
   "cell_type": "code",
   "execution_count": 118,
   "metadata": {},
   "outputs": [],
   "source": [
    "start_station_counts = df_bike_clean.start_station_name.value_counts()\n",
    "y = start_station_counts.values[0:10] \n",
    "x = start_station_counts.index[0:10]\n",
    "\n",
    "    "
   ]
  },
  {
   "cell_type": "code",
   "execution_count": 119,
   "metadata": {},
   "outputs": [
    {
     "data": {
      "image/png": "[encoded data removed]",
      "text/plain": [
       "<Figure size 432x288 with 1 Axes>"
      ]
     },
     "metadata": {
      "needs_background": "light"
     },
     "output_type": "display_data"
    }
   ],
   "source": [
    "base_color = sb.color_palette()[0]\n",
    "sb.countplot(data=df_bike_clean, y='start_station_name', order=x)\n",
    "plt.xlim(25000,None)\n",
    "plt.xlabel('Number of Uses as Start Station')\n",
    "plt.ylabel('Start Station Name')\n",
    "plt.title('Top 10 Start Stations in San Francisco');"
   ]
  },
  {
   "cell_type": "markdown",
   "metadata": {},
   "source": [
    "### Observation: \n",
    "> \"Market St at 10th\" st is the most popular start station regardless user types."
   ]
  },
  {
   "cell_type": "markdown",
   "metadata": {},
   "source": [
    "### 2. Top 10 End Station"
   ]
  },
  {
   "cell_type": "code",
   "execution_count": 120,
   "metadata": {},
   "outputs": [
    {
     "name": "stdout",
     "output_type": "stream",
     "text": [
      "Index(['San Francisco Caltrain Station 2  (Townsend St at 4th St)',\n",
      "       'San Francisco Caltrain (Townsend St at 4th St)',\n",
      "       'San Francisco Ferry Building (Harry Bridges Plaza)',\n",
      "       'Montgomery St BART Station (Market St at 2nd St)',\n",
      "       'Market St at 10th St', 'Berry St at 4th St',\n",
      "       'Powell St BART Station (Market St at 4th St)',\n",
      "       'Steuart St at Market St', 'The Embarcadero at Sansome St',\n",
      "       'Powell St BART Station (Market St at 5th St)'],\n",
      "      dtype='object')\n"
     ]
    },
    {
     "data": {
      "image/png": "[encoded data removed]",
      "text/plain": [
       "<Figure size 432x288 with 1 Axes>"
      ]
     },
     "metadata": {
      "needs_background": "light"
     },
     "output_type": "display_data"
    }
   ],
   "source": [
    "end_station_counts = df_bike_clean.end_station_name.value_counts()\n",
    "y = end_station_counts.values[0:10] \n",
    "x = end_station_counts.index[0:10]\n",
    "print(x)\n",
    "\n",
    "base_color = sb.color_palette()[0]\n",
    "sb.countplot(data=df_bike_clean, y='end_station_name', order=x)\n",
    "plt.xlim(25000,None)\n",
    "plt.xlabel('Number of Uses as End Station')\n",
    "plt.ylabel('End Station Name')\n",
    "plt.title('Top 10 End Stations in San Francisco');\n",
    "    "
   ]
  },
  {
   "cell_type": "markdown",
   "metadata": {},
   "source": [
    "### Observation:\n",
    "> \"San Francisco Caltrain Station\"  is the most popular End Station regardless user types.\n",
    ">> Although \"Market St at 10th St\" was a busy start station, it is only the fifth most popular end station. It may be more importatant for this station to have bikes for pick up rather than drop off. Some stations are popular as both start and end stations such as 'San Francisco Caltrain (Townsend St at 4th St)' and 'San Francisco Ferry Building (Harry Bridges Plaza)'. For these stations both bike pick up and drop off is importatant to monitor.\n"
   ]
  },
  {
   "cell_type": "markdown",
   "metadata": {},
   "source": [
    "### 3. User Types Distribution:"
   ]
  },
  {
   "cell_type": "code",
   "execution_count": 121,
   "metadata": {},
   "outputs": [
    {
     "data": {
      "image/png": "[encoded data removed]",
      "text/plain": [
       "<Figure size 432x288 with 1 Axes>"
      ]
     },
     "metadata": {
      "needs_background": "light"
     },
     "output_type": "display_data"
    }
   ],
   "source": [
    "sb.countplot(data = df_bike_clean, x = 'user_type')\n",
    "plt.title('Distribution of User Types',fontsize=16);\n",
    "plt.ylabel('Number of Bike Rides');\n",
    "plt.xlabel('User Type');"
   ]
  },
  {
   "cell_type": "markdown",
   "metadata": {},
   "source": [
    "### Observation:\n",
    "> There are significantly more subscriber(members) cyclists than customer(non_members."
   ]
  },
  {
   "cell_type": "markdown",
   "metadata": {},
   "source": [
    "# Bivariate Exploration"
   ]
  },
  {
   "cell_type": "markdown",
   "metadata": {},
   "source": [
    "### 1. Visualize top 10 stations of subscriber users "
   ]
  },
  {
   "cell_type": "code",
   "execution_count": 122,
   "metadata": {},
   "outputs": [
    {
     "data": {
      "image/png": "[encoded data removed]",
      "text/plain": [
       "<Figure size 432x288 with 1 Axes>"
      ]
     },
     "metadata": {
      "needs_background": "light"
     },
     "output_type": "display_data"
    }
   ],
   "source": [
    "#only look at start stations\n",
    "sub_station_counts = df_bike_clean.query('user_type == \"Subscriber\"').start_station_name.value_counts()\n",
    "sub_y = sub_station_counts.values[0:10] \n",
    "sub_x = sub_station_counts.index[0:10]\n",
    "#print(sub_station_counts)\n",
    "\n",
    "sb.countplot(data=df_bike_clean.query('user_type == \"Subscriber\"'), y='start_station_name', order=sub_x, color=sb.color_palette()[0])\n",
    "plt.xlim(20000,None)\n",
    "plt.xlabel('Number of Uses as Start Station')\n",
    "plt.ylabel('Start Station Name')\n",
    "plt.title('Top 10 Start Stations in San Francisco Used by Subscirbers');"
   ]
  },
  {
   "cell_type": "markdown",
   "metadata": {},
   "source": [
    "### Observation\n",
    "> \"Market St at 10th st\" is the most popular start station used by Subscribers."
   ]
  },
  {
   "cell_type": "markdown",
   "metadata": {},
   "source": [
    "### 2. Visualize top 10 stations of Customer\n"
   ]
  },
  {
   "cell_type": "code",
   "execution_count": 123,
   "metadata": {},
   "outputs": [
    {
     "data": {
      "image/png": "[encoded data removed]",
      "text/plain": [
       "<Figure size 432x288 with 1 Axes>"
      ]
     },
     "metadata": {
      "needs_background": "light"
     },
     "output_type": "display_data"
    }
   ],
   "source": [
    "cus_station_counts = df_bike_clean.query('user_type == \"Customer\"').start_station_name.value_counts()\n",
    "cus_y = cus_station_counts.values[0:10] \n",
    "cus_x = cus_station_counts.index[0:10]\n",
    "\n",
    "sb.countplot(data=df_bike_clean.query('user_type == \"Customer\"'), y='start_station_name', order=cus_x, color=sb.color_palette()[1])\n",
    "plt.xlim(0,None)\n",
    "plt.xlabel('Number of Uses as Start Station')\n",
    "plt.ylabel('Start Station Name')\n",
    "plt.title('Top 10 Start Stations in San Francisco Used by Customers');"
   ]
  },
  {
   "cell_type": "markdown",
   "metadata": {},
   "source": [
    "### Observation\n",
    "> \"San Francisco Caltrain Station\"  is the most popular Start Station used by Customer.\n",
    "\n",
    ">> As a result, the most popular start stations is so different based on the type of users. However, we need to consider the distribution of user types in which the subscriber's number is 3 times more than customer's cyclists. While the top 10 stations used in general reveals Market St at 10th St is the most used, more of the data is from subscribers rather than customers.Therefore, it is worth looking at station usage based on user type because customers and subscribers do not use the same stations equally."
   ]
  },
  {
   "cell_type": "markdown",
   "metadata": {},
   "source": [
    "### 3. Hourly Distribution of \"Market St at 10th St\""
   ]
  },
  {
   "cell_type": "code",
   "execution_count": 124,
   "metadata": {},
   "outputs": [],
   "source": [
    "counts = df_bike_clean.query('start_station_name == \"Market St at 10th St\"').trip_hour.value_counts().sort_index()\n",
    "i = counts.values[0:24]\n",
    "j = counts.index[0:24]"
   ]
  },
  {
   "cell_type": "code",
   "execution_count": 125,
   "metadata": {},
   "outputs": [
    {
     "data": {
      "image/png": "[encoded data removed]",
      "text/plain": [
       "<Figure size 432x288 with 1 Axes>"
      ]
     },
     "metadata": {
      "needs_background": "light"
     },
     "output_type": "display_data"
    }
   ],
   "source": [
    "sb.countplot(data= df_bike_clean.query('start_station_name == \"Market St at 10th St\"'), x = 'trip_hour', order= j, color=sb.color_palette()[3])\n",
    "plt.xlim(0,None)\n",
    "plt.xlabel('Hour')\n",
    "plt.ylabel('Uses')\n",
    "plt.title('Usage of Market St at 10th St by hour');"
   ]
  },
  {
   "cell_type": "markdown",
   "metadata": {},
   "source": [
    "### Observation:\n",
    "> Looking at the most popular start station, we can see that it used most frequently in the morning (7am-10am) and evening (4pm-7pm). These two intervals have a similar peak usage and usages during the hours in between are similar to each other. This matches with the times people most commonly travel to and from work or school."
   ]
  },
  {
   "cell_type": "markdown",
   "metadata": {},
   "source": [
    "### 4. Hourly Distribution of \"Market St at 10th St\""
   ]
  },
  {
   "cell_type": "code",
   "execution_count": 126,
   "metadata": {},
   "outputs": [
    {
     "data": {
      "image/png": "[encoded data removed]",
      "text/plain": [
       "<Figure size 432x288 with 1 Axes>"
      ]
     },
     "metadata": {
      "needs_background": "light"
     },
     "output_type": "display_data"
    }
   ],
   "source": [
    "cus_counts = df_bike_clean.query('end_station_name == \"San Francisco Caltrain Station 2  (Townsend St at 4th St)\"').trip_hour.value_counts().sort_index()\n",
    "end_i = counts.values[0:24]\n",
    "end_j = counts.index[0:24]\n",
    "\n",
    "sb.countplot(data= df_bike_clean.query('end_station_name == \"San Francisco Caltrain Station 2  (Townsend St at 4th St)\" '), x = 'trip_hour', order= end_j, color=sb.color_palette()[4])\n",
    "plt.xlim(0,None)\n",
    "plt.xlabel('Hour')\n",
    "plt.ylabel('Uses')\n",
    "plt.title('Usage of San Francisco Caltrain Station 2  (Townsend St at 4th St) by hour');"
   ]
  },
  {
   "cell_type": "markdown",
   "metadata": {},
   "source": [
    "### Observation:\n",
    ">  Looking at the most popular end station, we can see that it used most frequently in the morning (7am-8am) and evening (4pm-6pm). The morning peak is roughly half that of the evening peak. In addition, the off peak hours see hardly any usage. The most usage is concentrated in the evening."
   ]
  },
  {
   "cell_type": "markdown",
   "metadata": {},
   "source": [
    "# Multivariate Exploration"
   ]
  },
  {
   "cell_type": "markdown",
   "metadata": {},
   "source": [
    "###  Comparing the relationship of number trips within 24 hours between user types"
   ]
  },
  {
   "cell_type": "code",
   "execution_count": 127,
   "metadata": {},
   "outputs": [
    {
     "data": {
      "image/png": "[encoded data removed]",
      "text/plain": [
       "<Figure size 432x288 with 1 Axes>"
      ]
     },
     "metadata": {
      "needs_background": "light"
     },
     "output_type": "display_data"
    }
   ],
   "source": [
    "counts = df_bike_clean.query('start_station_name == \"Market St at 10th St\" & user_type == \"Subscriber\"').trip_hour.value_counts().sort_index()\n",
    "i = counts.values[0:24]\n",
    "j = counts.index[0:24]\n",
    "\n",
    "sb.countplot(data= df_bike_clean.query('start_station_name == \"Market St at 10th St\" & user_type == \"Subscriber\"'), x = 'trip_hour', order= j, color=sb.color_palette()[0])\n",
    "plt.xlim(0,None)\n",
    "plt.xlabel('Hour')\n",
    "plt.ylabel('Uses')\n",
    "plt.title('Subscriber Usage of Market St at 10th St by hour');\n",
    "\n"
   ]
  },
  {
   "cell_type": "markdown",
   "metadata": {},
   "source": [
    "### Observation\n",
    "> At the most popular start station, subscriber usage shows a similar trend to general usage over the course of a day. The peaks are at the same times of day, morning and evening, and the hours in between have roughly equal usage. The two peaks are also about equal. Becuase the subscribers make up more than half of the data, this may be why the subscriber specific and the non-specific usage graphs look simialar."
   ]
  },
  {
   "cell_type": "code",
   "execution_count": 128,
   "metadata": {},
   "outputs": [
    {
     "data": {
      "image/png": "[encoded data removed]",
      "text/plain": [
       "<Figure size 432x288 with 1 Axes>"
      ]
     },
     "metadata": {
      "needs_background": "light"
     },
     "output_type": "display_data"
    }
   ],
   "source": [
    "cus_counts = df_bike_clean.query('end_station_name == \"Market St at 10th St\" & user_type == \"Customer\"').trip_hour.value_counts().sort_index()\n",
    "end_i = counts.values[0:24]\n",
    "end_j = counts.index[0:24]\n",
    "\n",
    "sb.countplot(data= df_bike_clean.query('end_station_name == \"Market St at 10th St\" & user_type == \"Customer\"'), x = 'trip_hour', order= end_j, color=sb.color_palette()[1])\n",
    "plt.xlim(0,None)\n",
    "plt.xlabel('Hour')\n",
    "plt.ylabel('Uses')\n",
    "plt.title('Customers usage of Market St at 10th St by hour');"
   ]
  },
  {
   "cell_type": "markdown",
   "metadata": {},
   "source": [
    "### Observation\n",
    "> For customers, the peaks also occur in the morning and evening but unqually. there is a higher usage in the morning than there is in the evenin'g."
   ]
  },
  {
   "cell_type": "code",
   "execution_count": 129,
   "metadata": {},
   "outputs": [],
   "source": [
    "df_bike_clean.to_csv('df_bike_clean.csv', index=False)"
   ]
  },
  {
   "cell_type": "markdown",
   "metadata": {},
   "source": [
    "### Talk about some of the relationships you observed in this part of the investigation. Were there features that strengthened each other in terms of looking at your feature(s) of interest?\n",
    "\n",
    ">Regardless of user type, the morning (7am-9am) always had the largest peak. This suggests it would be worth FordGoBike's time to always monitor Market St at 10th St during this time. The evening also had a peak but it was greater for subscribers than for customers. Subscribers also make up a larger demographic of users so FordGoBike may benefit from looking more into stations and times frequented by subscribers over customers. \n",
    "\n"
   ]
  },
  {
   "cell_type": "code",
   "execution_count": null,
   "metadata": {},
   "outputs": [],
   "source": []
  }
 ],
 "metadata": {
  "kernelspec": {
   "display_name": "Python 3",
   "language": "python",
   "name": "python3"
  },
  "language_info": {
   "codemirror_mode": {
    "name": "ipython",
    "version": 3
   },
   "file_extension": ".py",
   "mimetype": "text/x-python",
   "name": "python",
   "nbconvert_exporter": "python",
   "pygments_lexer": "ipython3",
   "version": "3.7.7"
  }
 },
 "nbformat": 4,
 "nbformat_minor": 4
}
